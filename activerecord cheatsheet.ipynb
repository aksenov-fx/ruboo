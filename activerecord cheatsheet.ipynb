{
 "cells": [
  {
   "cell_type": "code",
   "execution_count": null,
   "metadata": {},
   "outputs": [],
   "source": [
    "IRuby::Kernel.instance.switch_backend!(:pry)\n",
    "\n",
    "require 'active_record'\n",
    "require \"activerecord-sqlserver-adapter\"\n",
    "require \"awesome_print\""
   ]
  },
  {
   "cell_type": "code",
   "execution_count": null,
   "metadata": {},
   "outputs": [],
   "source": [
    "ActiveRecord::Base.logger = ActiveSupport::Logger.new(STDOUT)\n",
    "#ActiveRecord::Base.logger = ActiveSupport::Logger.new('log.txt')\n",
    "#ActiveSupport::LogSubscriber.colorize_logging = false"
   ]
  },
  {
   "cell_type": "code",
   "execution_count": null,
   "metadata": {},
   "outputs": [],
   "source": [
    "ActiveRecord::Base.establish_connection(\n",
    "    adapter: 'sqlserver',\n",
    "    encoding: 'utf8',\n",
    "    host: 'test-host.com',\n",
    "    database: 'TestDB'\n",
    ")"
   ]
  },
  {
   "cell_type": "code",
   "execution_count": null,
   "metadata": {},
   "outputs": [],
   "source": [
    "class DBRecord < ActiveRecord::Base\n",
    "    self.abstract_class = true\n",
    "\n",
    "    def self.table_name\n",
    "      \"app.#{name.demodulize}\"\n",
    "    end\n",
    "\n",
    "end"
   ]
  },
  {
   "cell_type": "code",
   "execution_count": null,
   "metadata": {},
   "outputs": [],
   "source": [
    "class DB\n",
    "    class DBTable < DBRecord\n",
    "    end\n",
    "end"
   ]
  },
  {
   "cell_type": "code",
   "execution_count": null,
   "metadata": {},
   "outputs": [],
   "source": [
    "DB::DBTable.columns.each { |column|\n",
    "  puts column.name.to_s + \":\" + column.type.to_s\n",
    "}"
   ]
  },
  {
   "cell_type": "code",
   "execution_count": null,
   "metadata": {},
   "outputs": [],
   "source": [
    "ap TestClass::DBTable.last(2)"
   ]
  },
  {
   "cell_type": "code",
   "execution_count": null,
   "metadata": {},
   "outputs": [],
   "source": [
    "def pp(query)\n",
    "    IRuby.display IRuby.table(query)\n",
    "end\n",
    "\n",
    "pp Ed::DBTable.last(2).as_json"
   ]
  },
  {
   "cell_type": "code",
   "execution_count": null,
   "metadata": {},
   "outputs": [],
   "source": [
    "def cs(clss,str)\n",
    "    ap clss.columns.map(&:name).select { |e| e.downcase.include?(str) }\n",
    "end\n",
    "\n",
    "cs BusinessUnit, \"id\""
   ]
  },
  {
   "cell_type": "code",
   "execution_count": null,
   "metadata": {},
   "outputs": [],
   "source": [
    "#find_by\n",
    "DB::DBTable.find_by(:name => \"Test BU\", active: true).name"
   ]
  },
  {
   "cell_type": "code",
   "execution_count": null,
   "metadata": {},
   "outputs": [],
   "source": [
    "#select\n",
    "DB::DBTable.select(:name).where(name: \"Test BU\", active: true)\n",
    "#Relation\n",
    "\n",
    "Contract\n",
    ".select(\n",
    ":code, \n",
    "'customer.name'\n",
    ")\n",
    ".joins(:customer)\n",
    ".joins(:contractadditionalinfo)\n",
    ".left_outer_joins(:revenuerecognitiontype\n",
    ")\n",
    ".where(ContractID: \"TestID\")"
   ]
  },
  {
   "cell_type": "code",
   "execution_count": null,
   "metadata": {},
   "outputs": [],
   "source": [
    "#pluck\n",
    "Ed::DBTable.where(name: \"Test BU\", active: true).pluck(:id, :name)\n",
    "#Array of arrays"
   ]
  },
  {
   "cell_type": "code",
   "execution_count": null,
   "metadata": {},
   "outputs": [],
   "source": [
    "#find_by_sql\n",
    "DB::DBTable.find_by_sql(\"select * from app.DBTable where name = 'Test BU'\")\n",
    "#Array"
   ]
  },
  {
   "cell_type": "code",
   "execution_count": null,
   "metadata": {},
   "outputs": [],
   "source": [
    "#like, find_each\n",
    "DB::DBTable.where(\"name like '%Test BU%'\").find_each { |bu| puts bu.name; puts bu.class }"
   ]
  },
  {
   "cell_type": "code",
   "execution_count": null,
   "metadata": {},
   "outputs": [],
   "source": [
    "#explain, distinct\n",
    "DB::DBTable.where(name: \"Test BU\", active: true).distinct.explain\n",
    "#DB::DBTable.where(name: \"Test BU\", active: true).to_sql"
   ]
  },
  {
   "cell_type": "code",
   "execution_count": null,
   "metadata": {},
   "outputs": [],
   "source": [
    "#IN\n",
    "\n",
    "Customer.where(orders_count: [1, 3, 5])\n",
    "\n",
    "# not\n",
    "Customer.where.not(orders_count: [1, 3, 5])\n",
    "\n",
    "# OR\n",
    "Customer.where(last_name: 'Smith').or(Customer.where(orders_count: [1, 3, 5]))"
   ]
  },
  {
   "cell_type": "code",
   "execution_count": null,
   "metadata": {},
   "outputs": [],
   "source": [
    "#exists\n",
    "\n",
    "Customer.exists?(first_name: ['Jane', 'Sergei'])\n",
    "\n",
    "Customer.where(first_name: 'Ryan').exists?"
   ]
  },
  {
   "cell_type": "code",
   "execution_count": null,
   "metadata": {},
   "outputs": [],
   "source": [
    "# Dates\n",
    "\n",
    "ap DB::DBTable.find_by(\"createDate > '2024-03-01'\") #returns only first record\n",
    "DB::DBTable.where('createDate > ?', '2024-03-01').size #4\n",
    "\n",
    "Book.where(created_at: (Time.now.midnight - 1.day)..Time.now.midnight)\n",
    "\n",
    "Book.where(created_at: (Time.now.midnight - 1.day)..) #endless range\n",
    "#SELECT * FROM books WHERE books.created_at >= '2008-12-21 00:00:00'"
   ]
  },
  {
   "cell_type": "code",
   "execution_count": null,
   "metadata": {},
   "outputs": [],
   "source": [
    "#order\n",
    "ap DB::DBTable.select(:name).where(\"createDate > '2024-03-01'\").order(name: :asc).as_json"
   ]
  },
  {
   "cell_type": "code",
   "execution_count": null,
   "metadata": {},
   "outputs": [],
   "source": [
    "# group\n",
    "Order.group(:status).count\n",
    "#{\"being_packed\"=>7, \"shipped\"=>12}\n",
    "\n",
    "# having\n",
    "big_orders = Order.select(\"created_at, sum(total) as total_price\")\n",
    "                  .group(\"created_at\")\n",
    "                  .having(\"sum(total) > ?\", 200)\n",
    "\n",
    "big_orders[0].total_price\n",
    "# Returns the total price for the first Order object"
   ]
  },
  {
   "cell_type": "code",
   "execution_count": null,
   "metadata": {},
   "outputs": [],
   "source": [
    "require 'csv'\n",
    "\n",
    "data = DB::DBTable.last(3).as_json\n",
    "\n",
    "# Define the headers based on the keys of the first hash\n",
    "headers = data.first.keys\n",
    "\n",
    "# Write data to CSV file with tab as separator\n",
    "CSV.open('output.csv', 'w', col_sep: \"\\t\", write_headers: true, headers: headers) do |csv|\n",
    "  data.each do |row|\n",
    "    csv << row.values\n",
    "  end\n",
    "end\n",
    "\n",
    "puts \"CSV file generated successfully.\""
   ]
  },
  {
   "cell_type": "code",
   "execution_count": null,
   "metadata": {},
   "outputs": [],
   "source": [
    "#update with iteration\n",
    "\n",
    "DB::DBTable.where(name: \"Test BU\", active: true).each { \n",
    "    |bu| bu.name = \"Test BU2\" \n",
    "    #bu.save\n",
    "}\n",
    "\n",
    "#update_all bypasses validation"
   ]
  },
  {
   "cell_type": "code",
   "execution_count": null,
   "metadata": {},
   "outputs": [],
   "source": [
    "# readonly\n",
    "\n",
    "customer = Customer.readonly.first\n",
    "customer.visits += 1\n",
    "customer.save # Raises an ActiveRecord::ReadOnlyRecord"
   ]
  },
  {
   "cell_type": "code",
   "execution_count": null,
   "metadata": {},
   "outputs": [],
   "source": [
    "# Relationships\n",
    "\n",
    "belongs_to #FK is in current table\n",
    "\n",
    "has_one\n",
    "has_one :through\n",
    "\n",
    "has_many #FK is in foreign table - calls back to current table\n",
    "has_many :through\n",
    "\n",
    "has_and_belongs_to_many\n",
    "\n",
    "#\n",
    "\n",
    "class Author < ApplicationRecord\n",
    "    has_many :confirmed_books, -> { where \"confirmed = 1\" },\n",
    "      class_name: \"Book\"\n",
    "end\n",
    "\n",
    "#\n",
    "\n",
    "class Like < ActiveRecord::Base\n",
    "    #belongs_to does not have to be defined, if we do not go to user/product from Like\n",
    "    belongs_to :user \n",
    "    belongs_to :product\n",
    "end\n",
    "\n",
    "class User < ActiveRecord::Base\n",
    "    has_many :likes\n",
    "    has_many :products, through: :likes\n",
    "end\n",
    "\n",
    "#same\n",
    "class User < ActiveRecord::Base\n",
    "    has_many :likes\n",
    "    has_many :liked_products, through: :likes, source: :product\n",
    "end"
   ]
  },
  {
   "cell_type": "code",
   "execution_count": null,
   "metadata": {},
   "outputs": [],
   "source": [
    "# Joins\n",
    "\n",
    "author = Author.first\n",
    "Book.where(author: author)\n",
    "Author.joins(:books).where(books: { author: author })\n",
    "\n",
    "Author.joins(\"INNER JOIN books ON books.author_id = authors.id AND books.out_of_print = FALSE\")\n",
    "\"SELECT authors.* FROM authors INNER JOIN books ON books.author_id = authors.id AND books.out_of_print = FALSE\"\n",
    "\n",
    "Book.joins(:reviews)\n",
    "\"SELECT books.* FROM books\n",
    "INNER JOIN reviews ON reviews.book_id = books.id\"\n",
    "\n",
    "Book.joins(:author, :reviews)\n",
    "\"SELECT books.* FROM books\n",
    "INNER JOIN authors ON authors.id = books.author_id\n",
    "INNER JOIN reviews ON reviews.book_id = books.id\"\n",
    "\n",
    "Book.joins(reviews: :customer) #nested\n",
    "\"SELECT books.* FROM books\n",
    "INNER JOIN reviews ON reviews.book_id = books.id\n",
    "INNER JOIN customers ON customers.id = reviews.customer_id\"\n",
    "\n",
    "Author.joins(books: [{ reviews: { customer: :orders } }, :supplier]) #nested\n",
    "\"SELECT authors.* FROM authors\n",
    "INNER JOIN books ON books.author_id = authors.id\n",
    "INNER JOIN reviews ON reviews.book_id = books.id\n",
    "INNER JOIN customers ON customers.id = reviews.customer_id\n",
    "INNER JOIN orders ON orders.customer_id = customers.id\n",
    "INNER JOIN suppliers ON suppliers.id = books.supplier_id\"\n",
    "\n",
    "Customer.left_outer_joins(:reviews).distinct.select('customers.*, COUNT(reviews.*) AS reviews_count').group('customers.id')\n",
    "\"SELECT DISTINCT customers.*, COUNT(reviews.*) AS reviews_count FROM customers\n",
    "LEFT OUTER JOIN reviews ON reviews.customer_id = customers.id GROUP BY customers.id\"\n",
    "\n",
    "#Examples\n",
    "time_range = (Time.now.midnight - 1.day)..Time.now.midnight\n",
    "Customer.joins(:orders).where('orders.created_at' => time_range).distinct"
   ]
  },
  {
   "cell_type": "code",
   "execution_count": null,
   "metadata": {},
   "outputs": [],
   "source": [
    "# where.associated and where.missing\n",
    "\n",
    "Customer.where.associated(:reviews)\n",
    "\"SELECT customers.* FROM customers\n",
    "INNER JOIN reviews ON reviews.customer_id = customers.id\n",
    "WHERE reviews.id IS NOT NULL\"\n",
    "\n",
    "Customer.where.missing(:reviews)\n",
    "\"SELECT customers.* FROM customers\n",
    "LEFT OUTER JOIN reviews ON reviews.customer_id = customers.id\n",
    "WHERE reviews.id IS NULL\""
   ]
  },
  {
   "cell_type": "code",
   "execution_count": null,
   "metadata": {},
   "outputs": [],
   "source": [
    "# includes and eager_load\n",
    "\n",
    "books = Book.limit(10)\n",
    "books.each do |book|\n",
    "  puts book.author.last_name\n",
    "end\n",
    "\n",
    "#The above code executes 1 (to find 10 books) + 10 (one per each book to load the author) = 11 queries in total.\n",
    "\n",
    "books = Book.includes(:author).limit(10)\n",
    "books.each do |book|\n",
    "  puts book.author.last_name\n",
    "end\n",
    "\n",
    "\"The above code will execute just 2 queries, as opposed to the 11 queries from the original case:\n",
    "SELECT books.* FROM books LIMIT 10\n",
    "SELECT authors.* FROM authors\n",
    "WHERE authors.id IN (1,2,3,4,5,6,7,8,9,10)\"\n",
    "\n",
    "books = Book.eager_load(:author).limit(10) #uses left join\n",
    "books.each do |book|\n",
    "  puts book.author.last_name\n",
    "end\n",
    "\n",
    "\"SELECT DISTINCT books.id FROM books LEFT OUTER JOIN authors ON authors.id = books.author_id LIMIT 10\n",
    "SELECT books.id AS t0_r0, books.last_name AS t0_r1, ...\n",
    "FROM books LEFT OUTER JOIN authors ON authors.id = books.author_id\n",
    "WHERE books.id IN (1,2,3,4,5,6,7,8,9,10)\""
   ]
  },
  {
   "cell_type": "code",
   "execution_count": null,
   "metadata": {},
   "outputs": [],
   "source": [
    "# Scopes\n",
    "\n",
    "class Book < ApplicationRecord\n",
    "    scope :out_of_print, -> { where(out_of_print: true) }\n",
    "end\n",
    "Book.out_of_print\n",
    "\n",
    "#chaining\n",
    "class Book < ApplicationRecord\n",
    "    scope :out_of_print, -> { where(out_of_print: true) }\n",
    "    scope :out_of_print_and_expensive, -> { out_of_print.where(\"price > 500\") }\n",
    "end\n",
    "\n",
    "#arguments\n",
    "class Book < ApplicationRecord\n",
    "    scope :costs_more_than, ->(amount) { where(\"price > ?\", amount) }\n",
    "end\n",
    "Book.costs_more_than(100.10)\n",
    "\n",
    "#same as:\n",
    "class Book < ApplicationRecord\n",
    "    def self.costs_more_than(amount)\n",
    "      where(\"price > ?\", amount)\n",
    "    end\n",
    "end\n",
    "\n",
    "\"However, there is one important caveat: A scope will always return an ActiveRecord::Relation object, \n",
    "even if the conditional evaluates to false, whereas a class method, will return nil. \n",
    "This can cause NoMethodError when chaining class methods with conditionals, if any of the conditionals return false\"\n",
    "\n",
    "#conditions\n",
    "class Order < ApplicationRecord\n",
    "    scope :created_before, ->(time) { where(created_at: ...time) if time.present? }\n",
    "end\n",
    "\n",
    "#Default Scope\n",
    "class Book < ApplicationRecord\n",
    "    default_scope { where(out_of_print: false) }\n",
    "end"
   ]
  },
  {
   "cell_type": "code",
   "execution_count": null,
   "metadata": {},
   "outputs": [],
   "source": [
    "# enum\n",
    "\n",
    "class Order < ApplicationRecord\n",
    "    enum :status, [:shipped, :being_packaged, :complete, :cancelled]\n",
    "end\n",
    "\n",
    "Order.shipped\n",
    "order.shipped?\n",
    "order.shipped!\n",
    "\n",
    "Order.shipped.any?\n",
    "\n",
    "Order.shipped.many?\n",
    "# SELECT COUNT(*) FROM (SELECT 1 FROM orders WHERE orders.status = 0 LIMIT 2)"
   ]
  },
  {
   "cell_type": "code",
   "execution_count": null,
   "metadata": {},
   "outputs": [],
   "source": [
    "# Transactions\n",
    "\n",
    "# Perform a transaction and either commit or rollback depending on\n",
    "# whether an exception was raised.\n",
    "ActiveRecord::Base.transaction do\n",
    "    # Do stuff here like updating, creating, or deleting records.\n",
    "  \n",
    "    # If there are any exceptions raised, the database commit will not happen,\n",
    "    # and it will perform a rollback restoring the database.\n",
    "  \n",
    "    # Nested transactions are also possible.\n",
    "  \n",
    "    # However, the actual Ruby object will be in a dirty state and not restored\n",
    "    # to the original state before the attempted transaction was started\n",
    "  end\n",
    "\n",
    "User.transaction do\n",
    "    users_to_update = User.where('age > ?', 18)\n",
    "    users_to_update.each do |user|\n",
    "      user.status = 'active'\n",
    "      user.save\n",
    "    end\n",
    "end\n",
    "\n",
    "#update with rollback and count affected rows\n",
    "ActiveRecord::Base.transaction do\n",
    "  num_rows_affected = DBTable.where(name: \"Test BU\").update(Status: 16)\n",
    "  p num_rows_affected.size\n",
    "  raise ActiveRecord::Rollback\n",
    "end"
   ]
  },
  {
   "cell_type": "code",
   "execution_count": null,
   "metadata": {},
   "outputs": [],
   "source": [
    "# Examples\n",
    "\n",
    "Customer\n",
    "  .select('customers.id, customers.last_name, reviews.body')\n",
    "  .joins(:reviews)\n",
    "  .where('reviews.created_at > ?', 1.week.ago)\n",
    "\n",
    "\"SELECT customers.id, customers.last_name, reviews.body\n",
    "FROM customers\n",
    "INNER JOIN reviews ON reviews.customer_id = customers.id\n",
    "WHERE (reviews.created_at > '2019-01-08')\"\n",
    "\n",
    "#\n",
    "\n",
    "Book\n",
    "  .select('books.id, books.title, authors.first_name')\n",
    "  .joins(:author)\n",
    "  .find_by(title: 'Abstraction and Specification in Program Development')\n",
    "\n",
    "\"SELECT books.id, books.title, authors.first_name\n",
    "FROM books\n",
    "INNER JOIN authors ON authors.id = books.author_id\n",
    "WHERE books.title = $1 [[\"title\", \"Abstraction and Specification in Program Development\"]]\n",
    "LIMIT 1\"\n",
    "\n",
    "#\n",
    "\n",
    "class Customer < ApplicationRecord\n",
    "  def name\n",
    "    \"I am #{first_name}\"\n",
    "  end\n",
    "end\n",
    "\n",
    "Customer.select(:first_name).map &:name\n",
    "#[\"I am David\", \"I am Jeremy\", \"I am Jose\"]\n",
    "\n",
    "#\n",
    "\n",
    "Order.joins(:customer, :books).pluck(\"orders.created_at, customers.email, books.title\")"
   ]
  }
 ],
 "metadata": {
  "kernelspec": {
   "display_name": "Ruby 3.2.2",
   "language": "ruby",
   "name": "ruby"
  },
  "language_info": {
   "file_extension": ".rb",
   "mimetype": "application/x-ruby",
   "name": "ruby",
   "version": "3.2.2"
  }
 },
 "nbformat": 4,
 "nbformat_minor": 2
}
